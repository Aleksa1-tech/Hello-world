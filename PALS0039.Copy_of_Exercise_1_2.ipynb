{
  "nbformat": 4,
  "nbformat_minor": 0,
  "metadata": {
    "colab": {
      "name": "Copy of Exercise_1_2.ipynb",
      "private_outputs": true,
      "provenance": [],
      "collapsed_sections": [],
      "include_colab_link": true
    },
    "kernelspec": {
      "name": "python3",
      "display_name": "Python 3"
    }
  },
  "cells": [
    {
      "cell_type": "markdown",
      "metadata": {
        "id": "view-in-github",
        "colab_type": "text"
      },
      "source": [
        "<a href=\"https://colab.research.google.com/github/Aleksa1-tech/Hello-world/blob/master/PALS0039.Copy_of_Exercise_1_2.ipynb\" target=\"_parent\"><img src=\"https://colab.research.google.com/assets/colab-badge.svg\" alt=\"Open In Colab\"/></a>"
      ]
    },
    {
      "cell_type": "markdown",
      "metadata": {
        "id": "jdmFw9SarIew"
      },
      "source": [
        "[![PALS0039 Logo](https://www.phon.ucl.ac.uk/courses/pals0039/images/pals0039logo.png)](https://www.phon.ucl.ac.uk/courses/pals0039/)\n",
        "\n",
        "#Exercise 1.2 Practice with Numpy\n",
        "\n",
        "In this exercise we practise using the Numpy library to manipulate vectors and matrices of numbers."
      ]
    },
    {
      "cell_type": "markdown",
      "metadata": {
        "id": "SmVYuO9PrOsP"
      },
      "source": [
        "(a) Use numpy to generate a list of the integers 1-100, then find the sum, mean and sum of squares of the list.\r\n",
        "\r\n",
        "**Hint:** You will need to import the numpy library. You can create a sequence of numbers with the **range()** function. You can use the built in numpy methods for calculations."
      ]
    },
    {
      "cell_type": "code",
      "metadata": {
        "id": "BNsDs20ErEIu"
      },
      "source": [
        "import numpy as np\n",
        "\n",
        "mylist=range(1,101)\n",
        "#for i in mylist:\n",
        "  #print(i)\n",
        "\n",
        "print(np.sum(mylist))\n",
        "print(np.mean(mylist))\n",
        "print(np.sum(np.square(mylist)))\n"
      ],
      "execution_count": null,
      "outputs": []
    },
    {
      "cell_type": "markdown",
      "metadata": {
        "id": "RKkl5PxQ1feI"
      },
      "source": [
        "# Answer sheet"
      ]
    },
    {
      "cell_type": "code",
      "metadata": {
        "id": "uw-mF6Z81kui"
      },
      "source": [
        "# import numpy library\n",
        "import numpy as np\n",
        "# create vector\n",
        "x=np.array(range(1,101))\n",
        "# perform some arithmetic\n",
        "print(x)\n",
        "print(x.sum())\n",
        "print(x.mean())\n",
        "print((x*x).sum())"
      ],
      "execution_count": null,
      "outputs": []
    },
    {
      "cell_type": "markdown",
      "metadata": {
        "id": "HqUQulu41j4U"
      },
      "source": [
        ""
      ]
    },
    {
      "cell_type": "markdown",
      "metadata": {
        "id": "pmiylYO1r4YI"
      },
      "source": [
        "---\n",
        "(b) Use numpy to generate a list of 100 pseudo-random numbers from a uniform distribution between 0 and 1. You can use the functions in <tt>numpy.random</tt> for this. Find the smallest value in the list. Find the largest value in the list. Report the 25th, 50th and 75th percentiles of the values in the list.\n",
        "\n",
        "**Hint:** You will need to use some of the [numpy functions for statistics](https://docs.scipy.org/doc/numpy-1.13.0/reference/routines.statistics.html). Use a **numpy.random** method to generate the sample, and other numpy methods to find the statistics."
      ]
    },
    {
      "cell_type": "code",
      "metadata": {
        "id": "itfIQvtYsQT4"
      },
      "source": [
        "import numpy as np\n",
        "\n",
        "unif=np.random.uniform(0,1,100)\n",
        "#print(unif)\n",
        "print(\"The smallest value is\",np.amin(unif))\n",
        "print(\"The biggest value is\",np.amax(unif))\n",
        "print(\"The 25th percentile value is\",np.percentile(unif,25))\n",
        "print(\"The 50th percentile value is\",np.percentile(unif,50))\n",
        "print(\"The 75th percentile value is\",np.percentile(unif,75))"
      ],
      "execution_count": null,
      "outputs": []
    },
    {
      "cell_type": "markdown",
      "metadata": {
        "id": "uQ3g25on1nUS"
      },
      "source": [
        "# Answer sheet"
      ]
    },
    {
      "cell_type": "code",
      "metadata": {
        "id": "bPkJRxP31pW7"
      },
      "source": [
        "# create vector of random values\n",
        "x=np.random.random(100)\n",
        "# print some statistical properties\n",
        "print(x.min())\n",
        "print(x.max())\n",
        "print(np.percentile(x,25),np.percentile(x,50),np.percentile(x,75))\n",
        "# another way to find the percentiles\n",
        "x.sort()\n",
        "print((x[24]+3*x[25])/4,(x[49]+x[50])/2,(3*x[74]+x[75])/4)"
      ],
      "execution_count": null,
      "outputs": []
    },
    {
      "cell_type": "markdown",
      "metadata": {
        "id": "FFjme_Viu1XB"
      },
      "source": [
        "---\n",
        "(c) Create a numpy array of the integers 1-12. Reshape the array so that it forms a matrix with 3 rows and 4 columns. Now reshape the array so that the order of the numbers goes down the columns rather than across the rows. Finally use array indexing to extract the middle two numbers on the second row.\n",
        "\n",
        "**Hint:** you will need to find out how to use the numpy **reshape()** method and how to create slices of numpy arrays."
      ]
    },
    {
      "cell_type": "code",
      "metadata": {
        "id": "4HUDEJWbvG_2"
      },
      "source": [
        "pp=np.arange(1,13)\n",
        "print(pp)\n",
        "new_pp=np.reshape(pp,(3,4))\n",
        "print(new_pp)\n",
        "new_pp2=np.reshape(pp,(3,4),order='F')\n",
        "print(new_pp2)\n",
        "\n",
        "print(new_pp2[1,1:3])"
      ],
      "execution_count": null,
      "outputs": []
    },
    {
      "cell_type": "markdown",
      "metadata": {
        "id": "5aaGvlMf2JZ_"
      },
      "source": [
        "# Answer sheet"
      ]
    },
    {
      "cell_type": "code",
      "metadata": {
        "id": "-u4NwMKm2LeM"
      },
      "source": [
        "# create vector of number 1-12\n",
        "x=np.array(range(1,13))\n",
        "print(x)\n",
        "# reshape row-wise\n",
        "y=x.reshape((3,4))\n",
        "print(y)\n",
        "# reshape column-wise\n",
        "y=x.reshape((3,4),order='F')\n",
        "print(y)\n",
        "print(y[1,1:3])"
      ],
      "execution_count": null,
      "outputs": []
    },
    {
      "cell_type": "markdown",
      "metadata": {
        "id": "-lXnP-frw2Cf"
      },
      "source": [
        "---\n",
        "(d) Create a vector containing [1,2,3] and another containing [4,5,6]. Add the two vectors together. Multiply the two vectors element wise. Form the [dot product](https://www.mathsisfun.com/algebra/vectors-dot-product.html) of the two vectors.\n",
        "\n",
        "**Hint:** you can form the dot product with a loop or you can use the built-in numpy **dot()** method."
      ]
    },
    {
      "cell_type": "code",
      "metadata": {
        "id": "AisQRSFQzt8u"
      },
      "source": [
        "a=np.array([1,2,3])\n",
        "b=np.array([4,5,6])\n",
        "\n",
        "ab=a+b\n",
        "print(ab)\n",
        "print(a*b)\n",
        "print(np.dot(a,b))"
      ],
      "execution_count": null,
      "outputs": []
    },
    {
      "cell_type": "markdown",
      "metadata": {
        "id": "B-zXNO0A2Y9o"
      },
      "source": [
        "# Answer sheet"
      ]
    },
    {
      "cell_type": "code",
      "metadata": {
        "id": "zd-mHcPu2apY"
      },
      "source": [
        "# create the vectors\n",
        "a=np.array((1,2,3))\n",
        "b=np.array((4,5,6))\n",
        "# perform some arithmetic\n",
        "print(a,b)\n",
        "print(a+b)\n",
        "print(a*b)\n",
        "print(a.dot(b))"
      ],
      "execution_count": null,
      "outputs": []
    }
  ]
}