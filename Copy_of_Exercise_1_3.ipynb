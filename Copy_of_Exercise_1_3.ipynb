{
  "nbformat": 4,
  "nbformat_minor": 0,
  "metadata": {
    "colab": {
      "name": "Copy of Exercise_1_3.ipynb",
      "private_outputs": true,
      "provenance": [],
      "collapsed_sections": [],
      "include_colab_link": true
    },
    "kernelspec": {
      "name": "python3",
      "display_name": "Python 3"
    }
  },
  "cells": [
    {
      "cell_type": "markdown",
      "metadata": {
        "id": "view-in-github",
        "colab_type": "text"
      },
      "source": [
        "<a href=\"https://colab.research.google.com/github/Aleksa1-tech/Hello-world/blob/master/Copy_of_Exercise_1_3.ipynb\" target=\"_parent\"><img src=\"https://colab.research.google.com/assets/colab-badge.svg\" alt=\"Open In Colab\"/></a>"
      ]
    },
    {
      "cell_type": "markdown",
      "metadata": {
        "id": "LzfM-BoYc5fF"
      },
      "source": [
        "[![PALS0039 Logo](https://www.phon.ucl.ac.uk/courses/pals0039/images/pals0039logo.png)](https://www.phon.ucl.ac.uk/courses/pals0039/)\n",
        "\n",
        "#Exercise 1.3 Practice with Matplotlib\n",
        "\n",
        "In this exercise we practise using the matplotlib library for drawing graphs."
      ]
    },
    {
      "cell_type": "markdown",
      "metadata": {
        "id": "D-4nX60DdIs1"
      },
      "source": [
        "(a) Use numpy to generate a vector \"x\" of 100 values between 0 and 10. Then generate a vector \"y\" from x using a regression \"y=2x+e\", where \"e\" is a gaussian random variable of mean 0 and sd 1.\n",
        "\n",
        "Use matplotlib to plot a scatter graph of the points.\n",
        "\n",
        "Use matplotlib to add the correct regression line y=2x.\n",
        "\n",
        "**Hint:** You'll need to import the matplotlib and numpy libraries. The numpy **linspace()** method can be used to generate a sequence of numbers in a numpy array. The **normal()** method of **numpy.random** can be used to sample a normal distribution.\n"
      ]
    },
    {
      "cell_type": "code",
      "metadata": {
        "id": "n5ipM1Nvc2qb"
      },
      "source": [
        "import numpy as np\n",
        "import matplotlib.pyplot as plt\n",
        "%matplotlib inline\n",
        "\n",
        "x=np.linspace(0,10,100)\n",
        "y=2*x+np.random.normal(size=100)\n",
        "y2=2*x\n",
        "\n",
        "#plt.xlim(0,10)\n",
        "#plt.ylim(0,23)\n",
        "plt.plot(x,y,\"ro\",label=\"Y =2x+e\")\n",
        "plt.plot(x,y2,\"g-\",label=\"Y = 2x\")\n",
        "\n",
        "plt.xlabel(\"x-axis\")\n",
        "plt.ylabel(\"y-axis\")\n",
        "plt.title(\"My graph\")\n",
        "plt.legend(loc=\"best\")\n",
        "plt.show()"
      ],
      "execution_count": null,
      "outputs": []
    },
    {
      "cell_type": "markdown",
      "metadata": {
        "id": "AONb_V-g4qQO"
      },
      "source": [
        "# Answer sheet"
      ]
    },
    {
      "cell_type": "code",
      "metadata": {
        "id": "mitbCBx64uFW"
      },
      "source": [
        "# import libraries\n",
        "import numpy as np\n",
        "import matplotlib.pyplot as plt\n",
        "%matplotlib inline\n",
        "# create x and y values\n",
        "n=100\n",
        "x=np.linspace(0,10,n)\n",
        "y=2*x+np.random.normal(size=n)\n",
        "# plot them\n",
        "plt.plot(x,y,'bo')\n",
        "plt.plot(x,2*x,'r-')\n",
        "plt.show()"
      ],
      "execution_count": null,
      "outputs": []
    },
    {
      "cell_type": "markdown",
      "metadata": {
        "id": "uwWUPOTXfqSG"
      },
      "source": [
        "---\n",
        "(b) Plot a bar chart of the following data (GDP per capita 2019, Source: IMF)\n",
        "\n",
        "<table><tr><th align=\"left\">Continent</th><th align='right'>GDP (US$)</th></tr>\n",
        "<tr><td>Oceania</td><td align='right'>53,220</td></tr>\n",
        "<tr><td>North America</td><td align='right'>49,240</td></tr>\n",
        "<tr><td>Europe</td><td align='right'>29,410</td></tr>\n",
        "<tr><td>South America</td><td align='right'>8,560</td></tr>\n",
        "<tr><td>Asia</td><td align='right'>7,350</td></tr>\n",
        "<tr><td>Africa</td><td align='right'>1,930</td></tr>\n",
        "<tr><td>World Average</td><td align='right'>11,570</td></tr>\n",
        "</table>\n",
        "\n",
        "Use matplotlib to add axis labels and a graph title. Change the size of the plot so that the text is clearly displayed.\n",
        "\n",
        "**Hint:** Start by storing the data as Python tuples. Use a **matplotlib** method to set up a bar chart then add axis labels and a title using other **matplotlib** methods."
      ]
    },
    {
      "cell_type": "code",
      "metadata": {
        "id": "q9jaGJi9iect"
      },
      "source": [
        "import matplotlib.pyplot as plt\n",
        "\n",
        "continents=[\"Oceania\",\"North America\",\"Europe\",\"South America\",\"Asia\",\"Africa\",\"World Average\"]\n",
        "gdp=[53220,49240,29410,8560,7350,1930,11570]\n",
        "\n",
        "plt.figure(figsize=(15,10))\n",
        "plt.bar(continents,gdp,color=\"red\")\n",
        "plt.xlabel(\"Continents\")\n",
        "plt.ylabel(\"GDP (in $)\")\n",
        "plt.title(\"GDP per capita 2019 (source:IMF)\")\n",
        "plt.show()"
      ],
      "execution_count": null,
      "outputs": []
    },
    {
      "cell_type": "markdown",
      "metadata": {
        "id": "uFpsGCm3kqxb"
      },
      "source": [
        "---\n",
        "(c) Use numpy to sample 1000 vaues from a normally distributed random variable with a mean of 5 and a standard deviation of 1. Use matplotlib to plot a histogram of the sample probability density.\n",
        "\n",
        "The formula for the normal distribution is as follows:\n",
        "\n",
        "<ul>\n",
        "<p>$$N(\\mu,\\sigma) = {1 \\over \\sqrt (2\\pi\\sigma^2)} exp(-{ (x-\\mu)^2 \\over 2\\sigma^2 } )$$\n",
        "</ul>\n",
        "\n",
        "Where $\\mu$ is the mean of the sample, and $\\sigma$ is the standard deviation. Plot a line representing the best fitting normal distribution over the histogram.\n",
        "\n",
        "**Hint:** Use the **numpy.random** **normal()** to generate the sample, then use the formula to generate the shape of a normal distribution that fits the data from **x** values between 0 and 10."
      ]
    },
    {
      "cell_type": "code",
      "metadata": {
        "id": "knh6Ur6alMXm"
      },
      "source": [
        "import numpy as np\n",
        "import matplotlib.pyplot as plt\n",
        "import math\n",
        "\n",
        "x=np.random.normal(5,1,size=1000)\n",
        "\n",
        "plt.hist(x,20,density=True)\n",
        "\n",
        "nu=np.mean(x)\n",
        "sigma=np.std(x)\n",
        "\n",
        "x=np.linspace(0,10,100)\n",
        "y=(np.exp(-((x-nu)**2/2*sigma**2)))/(sqrt(2*pi*(sigma**2)))\n",
        "plt.title(\"Normal random variable\")\n",
        "plt.xlabel(\"Values\")\n",
        "plt.ylabel(\"Probability density\")\n",
        "plt.plot(x,y,'r-')\n",
        "plt.show()\n"
      ],
      "execution_count": null,
      "outputs": []
    },
    {
      "cell_type": "markdown",
      "metadata": {
        "id": "h5HL8e3d_Aj8"
      },
      "source": [
        "# Answer sheet"
      ]
    },
    {
      "cell_type": "code",
      "metadata": {
        "id": "p4lCBSmu_C9i"
      },
      "source": [
        "# import the sqrt function and the value of pi\n",
        "from math import sqrt, pi\n",
        "import numpy as np\n",
        "# sample from the normal distribution\n",
        "x=np.random.normal(5,1,size=1000)\n",
        "# plot the historgram\n",
        "plt.hist(x,20,density=True)\n",
        "# fit a normal distribution\n",
        "mu=np.mean(x)\n",
        "sigma=np.std(x)\n",
        "# plot the normal curve\n",
        "x=np.linspace(0,10,100)\n",
        "y=(1/sqrt(2*pi*sigma**2))*np.exp(-((x-mu)**2)/(2*sigma**2))\n",
        "plt.plot(x,y,'r-')\n",
        "plt.show()"
      ],
      "execution_count": null,
      "outputs": []
    }
  ]
}