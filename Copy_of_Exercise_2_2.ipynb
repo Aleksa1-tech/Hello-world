{
  "nbformat": 4,
  "nbformat_minor": 0,
  "metadata": {
    "colab": {
      "name": "Copy of Exercise_2_2.ipynb",
      "private_outputs": true,
      "provenance": [],
      "collapsed_sections": [],
      "include_colab_link": true
    },
    "kernelspec": {
      "name": "python3",
      "display_name": "Python 3"
    }
  },
  "cells": [
    {
      "cell_type": "markdown",
      "metadata": {
        "id": "view-in-github",
        "colab_type": "text"
      },
      "source": [
        "<a href=\"https://colab.research.google.com/github/Aleksa1-tech/Hello-world/blob/master/Copy_of_Exercise_2_2.ipynb\" target=\"_parent\"><img src=\"https://colab.research.google.com/assets/colab-badge.svg\" alt=\"Open In Colab\"/></a>"
      ]
    },
    {
      "cell_type": "markdown",
      "metadata": {
        "id": "TCvRvja7Yv9m"
      },
      "source": [
        "[![PALS0039 Logo](https://www.phon.ucl.ac.uk/courses/pals0039/images/pals0039logo.png)](https://www.phon.ucl.ac.uk/courses/pals0039/)\n",
        "\n",
        "#Exercise 2.2 Regression Problem\n",
        "\n",
        "In this exercise we set up a simple regression problem and explore how well different regression models fit the data."
      ]
    },
    {
      "cell_type": "markdown",
      "metadata": {
        "id": "olG5JLfUY26F"
      },
      "source": [
        "(a) The following code builds some data for testing a regression problem. Run the code, then add comments to explain the different steps"
      ]
    },
    {
      "cell_type": "code",
      "metadata": {
        "id": "BfaQZe_7Yu6x"
      },
      "source": [
        "# Import the required modules\n",
        "import numpy as np\n",
        "import matplotlib.pyplot as plt\n",
        "%matplotlib inline\n",
        "\n",
        "# Set out the parameters for the regression line\n",
        "trueslope=4\n",
        "trueintercept=2\n",
        "N=100\n",
        "\n",
        "# sample from the true regression line with added errors\n",
        "x=np.linspace(0,1,N)\n",
        "y=trueintercept+trueslope*x+np.random.normal(size=N)\n",
        "\n",
        "# Plotting the values\n",
        "plt.plot(x,y,'bo')\n",
        "plt.show()"
      ],
      "execution_count": null,
      "outputs": []
    },
    {
      "cell_type": "markdown",
      "metadata": {
        "id": "FqJhR7pyZUiU"
      },
      "source": [
        "---\n",
        "(b) The following code measures the quality of fit of some predicted values. Run the code and then add comments to explain the different steps."
      ]
    },
    {
      "cell_type": "code",
      "metadata": {
        "id": "bZ9SAPXbZixM"
      },
      "source": [
        "# define the error function\n",
        "def loss(ytrue,ypred):\n",
        "  return np.sqrt(np.mean(np.square(np.subtract(ypred,ytrue))))\n",
        "\n",
        "#null model is just mean of y independent of x\n",
        "nullslope=0;\n",
        "nullintercept=np.mean(y)\n",
        "\n",
        "# calculate the prediction of the null model\n",
        "ynull=nullintercept+nullslope*x\n",
        "\n",
        "#plot the sample data and null prediction\n",
        "plt.plot(x,y,'bo')\n",
        "plt.plot(x,ynull,'r')\n",
        "plt.title(\"intercept=%.3f slope=%.3f loss=%.3f\" % (nullintercept,nullslope,loss(y,ynull)))\n",
        "plt.show()"
      ],
      "execution_count": null,
      "outputs": []
    },
    {
      "cell_type": "markdown",
      "metadata": {
        "id": "ethtgn0PcCHc"
      },
      "source": [
        "---\n",
        "(c) The following code fits the best regression line to the data points using the method of least squares.\n",
        "Run the code and then add comments to explain the different steps."
      ]
    },
    {
      "cell_type": "code",
      "metadata": {
        "id": "FQaqD2ilamFE"
      },
      "source": [
        "# Calculate the values fr the best-fitting slope and intercept\n",
        "bestslope,bestintercept=np.polyfit(x,y,1)\n",
        "\n",
        "# Construct a best0fitting line with the best slope and intercept values\n",
        "ybest=bestintercept+bestslope*x\n",
        "\n",
        "# plot the sample data and the best-fit regression line\n",
        "plt.plot(x,y,'bo')\n",
        "plt.plot(x,ybest,'r')\n",
        "plt.title(\"intercept=%.3f slope=%.3f loss=%.3f\" % (bestintercept,bestslope,loss(y,ybest)))\n",
        "plt.show()"
      ],
      "execution_count": null,
      "outputs": []
    },
    {
      "cell_type": "code",
      "metadata": {
        "id": "8dpbm4m8HUDW"
      },
      "source": [
        "bestslope,bestintercept=np.polyfit(x,y,1)\n",
        "print(np.polyfit(x,y,1))"
      ],
      "execution_count": null,
      "outputs": []
    },
    {
      "cell_type": "markdown",
      "metadata": {
        "id": "SJa72HZ4bkgU"
      },
      "source": [
        "---\n",
        "(d) Plot the \"true\" regression line and calculate the loss associated with the \"true\" intercept and slope."
      ]
    },
    {
      "cell_type": "code",
      "metadata": {
        "id": "FfZa5eYBbFLU"
      },
      "source": [
        "ytrue=trueintercept+trueslope*x\n",
        "\n",
        "plt.plot(x,y,'bo')\n",
        "plt.plot(x,ytrue,'r')\n",
        "plt.title(\"intercept=%.3f slope=%.3f loss=%.3f\" % (trueintercept,trueslope,loss(y,ytrue)))\n",
        "plt.show()"
      ],
      "execution_count": null,
      "outputs": []
    },
    {
      "cell_type": "markdown",
      "metadata": {
        "id": "Xp-IMj-kbGBE"
      },
      "source": [
        "---\n",
        "(e) Fit a quadratic curve to the data and plot the best fitted curve and the loss.\n",
        "\n",
        "Hint: The numpy function <tt>poly=polyfit(x,y,order)</tt> returns the coefficients for a polynomial of size <tt>order</tt> that predcts <tt>y</tt> from <tt>x</tt>. The numpy function <tt>y=np.polyval(poly,x)</tt> evaluates the polynomial coefficients at the points <tt>x</tt>."
      ]
    },
    {
      "cell_type": "code",
      "metadata": {
        "id": "Bg_OMk8XeQoE"
      },
      "source": [
        "poly=np.polyfit(x,y,2)\n",
        "\n",
        "#quadline=quadsquare*x**2+quadslope*x+quadintercept\n",
        "quadline=np.polyval(poly,x)\n",
        "\n",
        "plt.plot(x,y,'bo')\n",
        "plt.plot(x,quadline,'r')\n",
        "plt.title(\"intercept=%.3f slope=%.3f acc=%.3f loss=%.3f\" % (poly[2],poly[1],poly[0],loss(y,quadline)))\n",
        "plt.show()"
      ],
      "execution_count": null,
      "outputs": []
    },
    {
      "cell_type": "markdown",
      "metadata": {
        "id": "EQ0-qt5NwhHO"
      },
      "source": [
        "---\n",
        "(f) Generate another sample of 100 points using the true slope and intercept but new random error. Then, for a range of polynomial orders between 1 and 15, fit a polynomial to the original data set, and print the the prediction loss on both the original data (used for training) and the new data set (used for validation).\n",
        "\n",
        "For a polynomial of order 15, plot the curve on top of the original data points."
      ]
    },
    {
      "cell_type": "code",
      "metadata": {
        "id": "Ii2vCzZ6jYXp"
      },
      "source": [
        "# Import the required modules\n",
        "import numpy as np\n",
        "import matplotlib.pyplot as plt\n",
        "%matplotlib inline\n",
        "\n",
        "N2=100\n",
        "\n",
        "# sample from the true regression line with added errors\n",
        "x2=np.linspace(0,1,N2)\n",
        "y2=trueintercept+trueslope*x+np.random.normal(size=N2)\n",
        "\n",
        "for i in range(1,16):\n",
        "  poly=np.polyfit(x,y,i)\n",
        "  quadline=np.polyval(poly,x)\n",
        "  l1=loss(y,quadline)\n",
        "  print(l1)\n",
        "\n",
        "print(\"The first mean is\",np.mean(l1))\n",
        "\n",
        "for n in range(1,16):\n",
        "  quadline2=np.polyval(poly,x2)\n",
        "  l2=loss(y2,quadline2)\n",
        "  print(l2)\n",
        "\n",
        "print(\"The second mean is\",np.mean(l2))"
      ],
      "execution_count": null,
      "outputs": []
    },
    {
      "cell_type": "markdown",
      "metadata": {
        "id": "0j5nBdLrQZcO"
      },
      "source": [
        "Had to fit to the original data set like:"
      ]
    },
    {
      "cell_type": "code",
      "metadata": {
        "id": "5Wi47_N5Qb51"
      },
      "source": [
        "for i in range(1,16):\n",
        "  poly=np.polyfit(x,y,i)\n",
        "  quadline=np.polyval(poly,x)\n",
        "  l1=loss(y,quadline)\n",
        "  quadline2=np.polyval(poly,x2)\n",
        "  l2=loss(y2,quadline2)\n",
        "  print(i,l1,l2)"
      ],
      "execution_count": null,
      "outputs": []
    },
    {
      "cell_type": "code",
      "metadata": {
        "id": "vFj7UVT6OAhY"
      },
      "source": [
        "poly=np.polyfit(x,y,15)\n",
        "quadline=np.polyval(poly,x)\n",
        "l1=loss(y,quadline)\n",
        "\n",
        "\n",
        "plt.plot(x,y,'bo')\n",
        "plt.plot(x,quadline,'r')\n",
        "plt.title(\" loss=%.3f\" % l1)\n",
        "plt.show()\n",
        "\n",
        "quadline2=np.polyval(poly2,x2)\n",
        "l2=loss(y2,quadline2)\n",
        "\n",
        "plt.plot(x2,y2,'bo')\n",
        "plt.plot(x2,quadline2,'r')\n",
        "plt.title(\"loss=%.3f\" % l2)\n",
        "plt.show()"
      ],
      "execution_count": null,
      "outputs": []
    }
  ]
}